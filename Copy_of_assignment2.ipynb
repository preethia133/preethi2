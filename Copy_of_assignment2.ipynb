{
  "nbformat": 4,
  "nbformat_minor": 0,
  "metadata": {
    "colab": {
      "provenance": [],
      "collapsed_sections": []
    },
    "kernelspec": {
      "name": "python3",
      "display_name": "Python 3"
    },
    "language_info": {
      "name": "python"
    }
  },
  "cells": [
    {
      "cell_type": "code",
      "execution_count": null,
      "metadata": {
        "colab": {
          "base_uri": "https://localhost:8080/"
        },
        "id": "mJKZX7neQKTW",
        "outputId": "51d8ca26-6660-4279-c19c-81bfc8851d5a"
      },
      "outputs": [
        {
          "output_type": "stream",
          "name": "stdout",
          "text": [
            "sorted:\n",
            "[(1, 2), (4, 4), (5, 4), (2, 5)]\n"
          ]
        }
      ],
      "source": [
        "def last(n):\n",
        "    return n[-1]\n",
        "def sort(a):\n",
        "    return sorted(a,key=(last))\n",
        "a = [(2,5),(1,2),(4,4),(5,4)]\n",
        "print(\"sorted:\")\n",
        "print(sort(a))"
      ]
    },
    {
      "cell_type": "code",
      "source": [
        "str=input(\"enter string\")\n",
        "print(str)\n",
        "for char in str:\n",
        "    print(char,\"- Corresponding ASCII value :\",ord(char))"
      ],
      "metadata": {
        "id": "mMMqahk4QL3t",
        "colab": {
          "base_uri": "https://localhost:8080/"
        },
        "outputId": "7d0b1f94-acc4-4367-cfd5-6cac06da9b63"
      },
      "execution_count": null,
      "outputs": [
        {
          "output_type": "stream",
          "name": "stdout",
          "text": [
            "enter stringpreethi\n",
            "preethi\n",
            "p - Corresponding ASCII value : 112\n",
            "r - Corresponding ASCII value : 114\n",
            "e - Corresponding ASCII value : 101\n",
            "e - Corresponding ASCII value : 101\n",
            "t - Corresponding ASCII value : 116\n",
            "h - Corresponding ASCII value : 104\n",
            "i - Corresponding ASCII value : 105\n"
          ]
        }
      ]
    },
    {
      "cell_type": "code",
      "source": [
        "str=input(\"enter string\")\n",
        "print(str)\n",
        "for char in str:\n",
        "    print(char,\" - corresponding ASCII value :\",ord(char))"
      ],
      "metadata": {
        "colab": {
          "base_uri": "https://localhost:8080/"
        },
        "id": "mOTGEtFAdZ_s",
        "outputId": "acc313de-9da0-4cbf-e214-a735d1a333ba"
      },
      "execution_count": null,
      "outputs": [
        {
          "output_type": "stream",
          "name": "stdout",
          "text": [
            "enter stringPREETHI\n",
            "PREETHI\n",
            "P  - corresponding ASCII value : 80\n",
            "R  - corresponding ASCII value : 82\n",
            "E  - corresponding ASCII value : 69\n",
            "E  - corresponding ASCII value : 69\n",
            "T  - corresponding ASCII value : 84\n",
            "H  - corresponding ASCII value : 72\n",
            "I  - corresponding ASCII value : 73\n"
          ]
        }
      ]
    }
  ]
}