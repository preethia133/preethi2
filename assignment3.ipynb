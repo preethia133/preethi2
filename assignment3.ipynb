{
  "nbformat": 4,
  "nbformat_minor": 0,
  "metadata": {
    "colab": {
      "provenance": [],
      "collapsed_sections": []
    },
    "kernelspec": {
      "name": "python3",
      "display_name": "Python 3"
    },
    "language_info": {
      "name": "python"
    }
  },
  "cells": [
    {
      "cell_type": "code",
      "execution_count": 19,
      "metadata": {
        "id": "yaYEltpU_bCk",
        "colab": {
          "base_uri": "https://localhost:8080/"
        },
        "outputId": "83b173a8-3ef9-44ec-e480-e46bf0f14f8c"
      },
      "outputs": [
        {
          "output_type": "stream",
          "name": "stdout",
          "text": [
            "sum of elements in list:  20\n"
          ]
        }
      ],
      "source": [
        "sum = 0\n",
        "list = [8,2,3,0,7]\n",
        "for ele in range(0, len(list)):\n",
        "    sum = sum + list[ele]\n",
        "print(\"sum of elements in list: \", sum)"
      ]
    },
    {
      "cell_type": "code",
      "source": [
        "def reverse(string):\n",
        "    string = string[:: -1]\n",
        "    return string\n",
        "str= \"1234abcd\"\n",
        "print(\"the original string is : \", end=\" \")\n",
        "print(str)\n",
        "print(\"the reversed string is : \", end=\" \")\n",
        "print(reverse(str))"
      ],
      "metadata": {
        "id": "LpDQUK2h_cHO",
        "colab": {
          "base_uri": "https://localhost:8080/"
        },
        "outputId": "9c6b0cfa-73c6-4d4a-a990-26653abe99f3"
      },
      "execution_count": 3,
      "outputs": [
        {
          "output_type": "stream",
          "name": "stdout",
          "text": [
            "the original string is :  1234abcd\n",
            "the reversed string is :  dcba4321\n"
          ]
        }
      ]
    },
    {
      "cell_type": "code",
      "source": [
        "def case_counter(string):\n",
        "    lower=0\n",
        "    upper=0\n",
        "    for char in string:\n",
        "        if (char.islower()):\n",
        "           lower=lower+1\n",
        "        elif (char.isupper()):\n",
        "              upper=upper+1\n",
        "    print('the no of lower case:',lower)\n",
        "    print('the no of upper case:',upper)\n",
        "string='The quick Brow Fox'\n",
        "case_counter(string)"
      ],
      "metadata": {
        "id": "Ov8i5Jg0_cSL",
        "colab": {
          "base_uri": "https://localhost:8080/"
        },
        "outputId": "1a1583ed-8cc8-4aea-f870-425bdfaf2d2c"
      },
      "execution_count": 14,
      "outputs": [
        {
          "output_type": "stream",
          "name": "stdout",
          "text": [
            "the no of lower case: 12\n",
            "the no of upper case: 3\n"
          ]
        }
      ]
    },
    {
      "cell_type": "code",
      "source": [],
      "metadata": {
        "id": "1GManAoW_caj"
      },
      "execution_count": 17,
      "outputs": []
    },
    {
      "cell_type": "code",
      "source": [
        "\n"
      ],
      "metadata": {
        "id": "Tz3juMlV_chd"
      },
      "execution_count": 17,
      "outputs": []
    },
    {
      "cell_type": "code",
      "source": [],
      "metadata": {
        "id": "SQLsCAmW_cry"
      },
      "execution_count": null,
      "outputs": []
    }
  ]
}