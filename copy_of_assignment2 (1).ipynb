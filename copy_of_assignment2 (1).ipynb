{
  "nbformat": 4,
  "nbformat_minor": 0,
  "metadata": {
    "colab": {
      "provenance": [],
      "collapsed_sections": []
    },
    "kernelspec": {
      "name": "python3",
      "display_name": "Python 3"
    },
    "language_info": {
      "name": "python"
    }
  },
  "cells": [
    {
      "cell_type": "code",
      "execution_count": null,
      "metadata": {
        "colab": {
          "base_uri": "https://localhost:8080/"
        },
        "id": "mJKZX7neQKTW",
        "outputId": "9e0a126a-0cf8-4ef3-b426-bf4dab8f7513"
      },
      "outputs": [
        {
          "output_type": "stream",
          "name": "stdout",
          "text": [
            "sorted:\n",
            "[(2, 1), (1, 2), (2, 3), (4, 4), (2, 5)]\n"
          ]
        }
      ],
      "source": [
        "def last(n):\n",
        "    return n[-1]\n",
        "def sort(a):\n",
        "    return sorted(a,key=(last))\n",
        "a = [(2,5),(1,2),(4,4),(2,3),(2,1)]\n",
        "print(\"sorted:\")\n",
        "print(sort(a))"
      ]
    },
    {
      "cell_type": "code",
      "source": [
        "my_dict = {}\n",
        "for i in range(97, 97 + 26):\n",
        "  my_dict[chr(i)] = i\n",
        "print(my_dict)"
      ],
      "metadata": {
        "id": "mMMqahk4QL3t",
        "colab": {
          "base_uri": "https://localhost:8080/"
        },
        "outputId": "8621fe08-5610-4e31-a20b-881bdf5b7964"
      },
      "execution_count": null,
      "outputs": [
        {
          "output_type": "stream",
          "name": "stdout",
          "text": [
            "{'a': 97, 'b': 98, 'c': 99, 'd': 100, 'e': 101, 'f': 102, 'g': 103, 'h': 104, 'i': 105, 'j': 106, 'k': 107, 'l': 108, 'm': 109, 'n': 110, 'o': 111, 'p': 112, 'q': 113, 'r': 114, 's': 115, 't': 116, 'u': 117, 'v': 118, 'w': 119, 'x': 120, 'y': 121, 'z': 122}\n"
          ]
        }
      ]
    },
    {
      "cell_type": "code",
      "source": [],
      "metadata": {
        "id": "mOTGEtFAdZ_s"
      },
      "execution_count": null,
      "outputs": []
    }
  ]
}