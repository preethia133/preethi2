{
  "nbformat": 4,
  "nbformat_minor": 0,
  "metadata": {
    "colab": {
      "provenance": [],
      "collapsed_sections": [],
      "name": "assignment1.ipynb",
      "authorship_tag": "ABX9TyPap43RxumlJ0YbgSw2tAtQ",
      "include_colab_link": true
    },
    "kernelspec": {
      "name": "python3",
      "display_name": "Python 3"
    },
    "language_info": {
      "name": "python"
    }
  },
  "cells": [
    {
      "cell_type": "markdown",
      "metadata": {
        "id": "view-in-github",
        "colab_type": "text"
      },
      "source": [
        "<a href=\"https://colab.research.google.com/github/preethia133/preethi2/blob/main/assignment1.ipynb\" target=\"_parent\"><img src=\"https://colab.research.google.com/assets/colab-badge.svg\" alt=\"Open In Colab\"/></a>"
      ]
    },
    {
      "cell_type": "code",
      "execution_count": null,
      "metadata": {
        "colab": {
          "base_uri": "https://localhost:8080/"
        },
        "id": "cmvULdd-Chp4",
        "outputId": "f33adff7-1c52-4024-c6e9-4c574d379fd9"
      },
      "outputs": [
        {
          "output_type": "stream",
          "name": "stdout",
          "text": [
            "enter the range number:10\n",
            "0\n",
            "1\n",
            "1\n",
            "2\n",
            "3\n",
            "5\n",
            "8\n",
            "13\n",
            "21\n",
            "34\n"
          ]
        }
      ],
      "source": [
        "num = int(input(\"enter the range number:\"))\n",
        "i = 0\n",
        "F_val = 0\n",
        "S_val = 1\n",
        "while (i < num):\n",
        "            if(i <= 1):\n",
        "                       Next = i\n",
        "            else:\n",
        "                       Next = F_val + S_val\n",
        "                       F_val = S_val\n",
        "                       S_val = Next\n",
        "            print(Next)\n",
        "            i = i +1"
      ]
    },
    {
      "cell_type": "code",
      "source": [
        "word = input(\"enter the word you want to reverse:\")\n",
        "for char in range(len(word) -1, -1, -1):\n",
        "  print(word[char], end=' ')\n",
        "print(\"\\n\")"
      ],
      "metadata": {
        "id": "HBsr8aKLCnfm",
        "colab": {
          "base_uri": "https://localhost:8080/"
        },
        "outputId": "846e724e-6f31-433a-cc71-e66254e5706d"
      },
      "execution_count": null,
      "outputs": [
        {
          "output_type": "stream",
          "name": "stdout",
          "text": [
            "enter the word you want to reverse:preethi\n",
            "i h t e e r p \n",
            "\n"
          ]
        }
      ]
    },
    {
      "cell_type": "code",
      "source": [
        "number = (1,2,3,4,5,6,7,8,9)\n",
        "count_odd = 0\n",
        "count_even = 0\n",
        "for i in number:\n",
        "    if not i%2:\n",
        "         count_even+=1\n",
        "    else:\n",
        "        count_odd+=1\n",
        "print(\"number of even numbers:\",count_even)\n",
        "print(\"number of odd numbers:\",count_odd)"
      ],
      "metadata": {
        "id": "spda4mWBCocz",
        "colab": {
          "base_uri": "https://localhost:8080/"
        },
        "outputId": "da413c94-04fb-4591-9e2a-0f472189d036"
      },
      "execution_count": null,
      "outputs": [
        {
          "output_type": "stream",
          "name": "stdout",
          "text": [
            "number of even numbers: 4\n",
            "number of odd numbers: 5\n"
          ]
        }
      ]
    }
  ]
}