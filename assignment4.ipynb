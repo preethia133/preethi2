{
  "nbformat": 4,
  "nbformat_minor": 0,
  "metadata": {
    "colab": {
      "provenance": [],
      "collapsed_sections": []
    },
    "kernelspec": {
      "name": "python3",
      "display_name": "Python 3"
    },
    "language_info": {
      "name": "python"
    }
  },
  "cells": [
    {
      "cell_type": "code",
      "execution_count": null,
      "metadata": {
        "colab": {
          "base_uri": "https://localhost:8080/"
        },
        "id": "8tNosM1RZKem",
        "outputId": "7e85da1e-5f05-4d0a-96e8-df7429cb9158"
      },
      "outputs": [
        {
          "output_type": "stream",
          "name": "stdout",
          "text": [
            "35\n"
          ]
        }
      ],
      "source": [
        "r = lambda a : a + 25\n",
        "print(r(10))\n",
        "r = lambda x, y : x * y\n"
      ]
    },
    {
      "cell_type": "markdown",
      "source": [
        "triple of a given list using lambda function"
      ],
      "metadata": {
        "id": "w_9ePcPph0R8"
      }
    },
    {
      "cell_type": "code",
      "source": [
        "nums = (1,2,3,4,5,6,7)\n",
        "print(\"original list: \", nums)\n",
        "result = map(lambda x: x + x + x, nums)\n",
        "print(\"\\n triple of said list numbers:\")\n",
        "print(list(result))"
      ],
      "metadata": {
        "id": "vhGhCq7PZNPQ",
        "colab": {
          "base_uri": "https://localhost:8080/"
        },
        "outputId": "e04e1a10-891c-4d13-8063-dfb658efd929"
      },
      "execution_count": null,
      "outputs": [
        {
          "output_type": "stream",
          "name": "stdout",
          "text": [
            "original list:  (1, 2, 3, 4, 5, 6, 7)\n",
            "\n",
            " triple of said list numbers:\n",
            "[3, 6, 9, 12, 15, 18, 21]\n"
          ]
        }
      ]
    },
    {
      "cell_type": "markdown",
      "source": [
        "square of a given list using map()"
      ],
      "metadata": {
        "id": "OYl9Hh3ciChw"
      }
    },
    {
      "cell_type": "code",
      "source": [
        "def square_num(n):\n",
        "    return n * n\n",
        "nums = [4,5,2,9]\n",
        "print(\"original list:\",nums)\n",
        "result = map(square_num, nums)\n",
        "print(\"the square of element of the said list using map function:\")\n",
        "print(list(result))"
      ],
      "metadata": {
        "id": "h68WewRNZOHS",
        "colab": {
          "base_uri": "https://localhost:8080/"
        },
        "outputId": "a7648bc3-1f94-4ba4-bcf9-d9667a97ffc1"
      },
      "execution_count": null,
      "outputs": [
        {
          "output_type": "stream",
          "name": "stdout",
          "text": [
            "original list: [4, 5, 2, 9]\n",
            "the square of element of the said list using map function:\n",
            "[16, 25, 4, 81]\n"
          ]
        }
      ]
    }
  ]
}